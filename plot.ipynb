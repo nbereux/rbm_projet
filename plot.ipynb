{
 "cells": [
  {
   "cell_type": "code",
   "execution_count": 105,
   "id": "eea30a60",
   "metadata": {},
   "outputs": [],
   "source": [
    "from train import bgs \n",
    "import h5py \n",
    "import numpy as np\n",
    "import pennylane as qml\n",
    "import matplotlib.pyplot as plt"
   ]
  },
  {
   "cell_type": "code",
   "execution_count": 106,
   "id": "e8819bdc",
   "metadata": {},
   "outputs": [],
   "source": [
    "def generate_binary_code(bit_length, batch_size_exp=None, batch_number=0):\n",
    "    # No batch size is given, all data is returned\n",
    "    if batch_size_exp is None:\n",
    "        batch_size_exp = bit_length\n",
    "    batch_size = 2 ** batch_size_exp\n",
    "    # Generate batch\n",
    "    bit_combinations = np.zeros((batch_size, bit_length))\n",
    "    for number in range(batch_size):\n",
    "        dividend = number + batch_number * batch_size\n",
    "        bit_index = 0\n",
    "        while dividend != 0:\n",
    "            bit_combinations[number, bit_index] = np.remainder(dividend, 2)\n",
    "            dividend = np.floor_divide(dividend, 2)\n",
    "            bit_index += 1\n",
    "    return bit_combinations\n",
    "\n",
    "def generate_bars_and_stripes_complete(length):\n",
    "    \"\"\" Creates a dataset containing all possible samples showing bars or stripes.\n",
    "\n",
    "    :param length: Length of the bars/stripes.\n",
    "    :type length: int\n",
    "\n",
    "    :return: Samples.\n",
    "    :rtype: numpy array [num_samples, length*length]\n",
    "    \"\"\"\n",
    "    stripes = generate_binary_code(length)\n",
    "    stripes = np.repeat(stripes, length, 0)\n",
    "    stripes = stripes.reshape(2 ** length, length * length)\n",
    "\n",
    "    bars = generate_binary_code(length)\n",
    "    bars = bars.reshape(2 ** length * length, 1)\n",
    "    bars = np.repeat(bars, length, 1)\n",
    "    bars = bars.reshape(2 ** length, length * length)\n",
    "    return np.vstack((stripes[0:stripes.shape[0]-1],bars[1:bars.shape[0]]))\n",
    "    # return numx.vstack((stripes, bars)) # Tests have to match if changed to this.\n",
    "\n",
    "\n",
    "inputs_np = generate_bars_and_stripes_complete(4)\n"
   ]
  },
  {
   "cell_type": "code",
   "execution_count": 107,
   "id": "518a9717",
   "metadata": {},
   "outputs": [],
   "source": [
    "nb_samples = inputs_np.shape[0]"
   ]
  },
  {
   "cell_type": "code",
   "execution_count": 108,
   "id": "dcba5a50",
   "metadata": {},
   "outputs": [
    {
     "name": "stdout",
     "output_type": "stream",
     "text": [
      "<KeysViewHDF5 ['eta_vector', 'log_likelihoods', 'theta_vector', 'weight_matrix']>\n",
      "[[-0.00782423 -0.00782423 -0.00782423 -0.00782423 -0.00782423 -0.00782423\n",
      "  -0.00782423]\n",
      " [ 0.00429461  0.00429461  0.00429461  0.00429461  0.00429461  0.00429461\n",
      "   0.00429461]\n",
      " [ 0.00326958  0.00326958  0.00326958  0.00326958  0.00326958  0.00326958\n",
      "   0.00326958]\n",
      " [-0.00894665 -0.00894665 -0.00894665 -0.00894665 -0.00894665 -0.00894665\n",
      "  -0.00894665]\n",
      " [ 0.00106776  0.00106776  0.00106776  0.00106776  0.00106776  0.00106776\n",
      "   0.00106776]\n",
      " [-0.00455762 -0.00455762 -0.00455762 -0.00455762 -0.00455762 -0.00455762\n",
      "  -0.00455762]\n",
      " [-0.00361373 -0.00361373 -0.00361373 -0.00361373 -0.00361373 -0.00361373\n",
      "  -0.00361373]\n",
      " [-0.00292402 -0.00292402 -0.00292402 -0.00292402 -0.00292402 -0.00292402\n",
      "  -0.00292402]\n",
      " [-0.0018162  -0.0018162  -0.0018162  -0.0018162  -0.0018162  -0.0018162\n",
      "  -0.0018162 ]\n",
      " [ 0.00336785  0.00336785  0.00336785  0.00336785  0.00336785  0.00336785\n",
      "   0.00336785]\n",
      " [-0.00191975 -0.00191975 -0.00191975 -0.00191975 -0.00191975 -0.00191975\n",
      "  -0.00191975]\n",
      " [ 0.00343905  0.00343905  0.00343905  0.00343905  0.00343905  0.00343905\n",
      "   0.00343905]\n",
      " [-0.00629673 -0.00629673 -0.00629673 -0.00629673 -0.00629673 -0.00629673\n",
      "  -0.00629673]\n",
      " [ 0.00455964  0.00455964  0.00455964  0.00455964  0.00455964  0.00455964\n",
      "   0.00455964]\n",
      " [-0.00092946 -0.00092946 -0.00092946 -0.00092946 -0.00092946 -0.00092946\n",
      "  -0.00092946]\n",
      " [ 0.00468714  0.00468714  0.00468714  0.00468714  0.00468714  0.00468714\n",
      "   0.00468714]]\n",
      "[-2.78188871e-07 -2.78188871e-07 -2.78188871e-07 -2.78188871e-07\n",
      " -2.78188871e-07 -2.78188871e-07 -2.78188871e-07]\n",
      "[-0.01533333  0.00933333  0.00733333 -0.018       0.00333333 -0.009\n",
      " -0.007      -0.005      -0.00333333  0.007      -0.004       0.007\n",
      " -0.01233333  0.00933333 -0.00166667  0.01      ]\n",
      "[-20.79072937 -20.78177736 -20.77325932 -20.77071763 -20.75874278\n",
      " -20.75064025 -20.76116758 -20.76577149 -20.75711626 -20.76225943\n",
      " -20.77291093 -20.78456843 -20.77222425 -20.77064941 -20.76730833\n",
      " -20.75929205 -20.75710279 -20.71409825 -20.73215819 -20.71027681\n",
      " -20.69853937 -20.69237479 -20.69506831 -20.69598559 -20.68217399\n",
      " -20.69679793 -20.6820248  -20.70618866 -20.69891841 -20.70101737\n",
      " -20.67815287 -20.66072693 -20.68315104 -20.67011318 -20.67827336\n",
      " -20.69701822 -20.6817212  -20.64883039 -20.64356476 -20.67804674\n",
      " -20.65076647 -20.63288306 -20.65317785 -20.65059045 -20.6386661\n",
      " -20.63998821 -20.63658972 -20.63090304 -20.63592081 -20.64542948\n",
      " -20.62677924 -20.65053868 -20.64789693 -20.63157728 -20.6694366\n",
      " -20.6435781  -20.64181068 -20.61803287 -20.60063964 -20.64421817\n",
      " -20.64102643 -20.64245681 -20.64172073 -20.65294302 -20.62714663\n",
      " -20.65420117 -20.62678277 -20.61718449 -20.6289987  -20.62132573\n",
      " -20.6205099  -20.61404271 -20.62915516 -20.61113019 -20.63088082\n",
      " -20.66795756 -20.65918621 -20.62240954 -20.61835949 -20.64346516\n",
      " -20.61413395 -20.62348952 -20.64649366 -20.65034357 -20.63441804\n",
      " -20.64912317 -20.68103847 -20.66577458 -20.66113569 -20.66268024\n",
      " -20.66120094 -20.66108594 -20.691388   -20.6914483  -20.69900399\n",
      " -20.72321264 -20.70807204 -20.70617515 -20.71255569 -20.73068169]\n"
     ]
    }
   ],
   "source": [
    "with h5py.File(\"rbm_parameters.h5\", \"r\") as f:\n",
    "    print(f.keys()) \n",
    "\n",
    "    w     = np.array(f['weight_matrix'])\n",
    "    eta   = np.array(f['eta_vector'])    \n",
    "    theta = np.array(f['theta_vector'])\n",
    "    llh   = np.array(f['log_likelihoods'])\n",
    "\n",
    "    print(w)\n",
    "    print(eta)\n",
    "    print(theta)\n",
    "    print(llh)"
   ]
  },
  {
   "cell_type": "code",
   "execution_count": 109,
   "id": "3c646f9c",
   "metadata": {},
   "outputs": [],
   "source": [
    "Nv, Nh = w.shape"
   ]
  },
  {
   "cell_type": "code",
   "execution_count": 110,
   "id": "7185ef93",
   "metadata": {},
   "outputs": [
    {
     "data": {
      "text/plain": [
       "array([[0, 1, 0, 0, 0, 0, 1, 0, 0, 0, 1, 1, 1, 1, 1, 0],\n",
       "       [0, 0, 0, 0, 1, 0, 1, 0, 1, 1, 0, 0, 0, 0, 1, 1],\n",
       "       [0, 1, 1, 0, 1, 1, 1, 0, 0, 0, 1, 1, 0, 0, 0, 1]])"
      ]
     },
     "execution_count": 110,
     "metadata": {},
     "output_type": "execute_result"
    }
   ],
   "source": [
    "sample_v = bgs(w, eta, theta, nb_samples, Nv, Nh, 10)[1]\n",
    "\n",
    "sample_v[0 : 3]"
   ]
  },
  {
   "cell_type": "code",
   "execution_count": 111,
   "id": "ee4a8252",
   "metadata": {},
   "outputs": [
    {
     "data": {
      "text/plain": [
       "<matplotlib.image.AxesImage at 0x7824959cf8f0>"
      ]
     },
     "execution_count": 111,
     "metadata": {},
     "output_type": "execute_result"
    },
    {
     "data": {
      "image/png": "[encoded data removed]",
      "text/plain": [
       "<Figure size 640x480 with 1 Axes>"
      ]
     },
     "metadata": {},
     "output_type": "display_data"
    }
   ],
   "source": [
    "plt.imshow(sample_v[0].reshape(4, 4), cmap='gray')"
   ]
  },
  {
   "cell_type": "code",
   "execution_count": 112,
   "id": "d193ceb9",
   "metadata": {},
   "outputs": [],
   "source": [
    "def plot_image(\n",
    "    sample, shape=(28, 28), grid_size=(10, 10), show_grid=False, randomize=True\n",
    "):\n",
    "    \"\"\"Args:\n",
    "    sample\n",
    "    shape: (Default value = (28)\n",
    "    28)\n",
    "    grid_size: (Default value = (10)\n",
    "    10)\n",
    "    show_grid: (Default value = False)\n",
    "    randomize: (Default value = True)\n",
    "    \"\"\"\n",
    "    num_samples = grid_size[0] * grid_size[1]\n",
    "    if randomize:\n",
    "        id_sample = np.random.randint(0, sample.shape[0], num_samples)\n",
    "    else:\n",
    "        id_sample = np.arange(num_samples)\n",
    "\n",
    "    # Create a display array with the appropriate size\n",
    "    display = np.zeros((shape[0] * grid_size[0], shape[1] * grid_size[1]))\n",
    "\n",
    "    for i, id_s in enumerate(id_sample):\n",
    "        # Calculate the row and column for the grid\n",
    "        idx = i // grid_size[1]  # Row index\n",
    "        idy = i % grid_size[1]  # Column index\n",
    "\n",
    "        # Ensure the sample can be reshaped to the specified shape\n",
    "        display[\n",
    "            (idx * shape[0]) : ((idx + 1) * shape[0]),\n",
    "            (idy * shape[1]) : ((idy + 1) * shape[1]),\n",
    "        ] = sample[id_s].reshape(\n",
    "            shape\n",
    "        )  # Directly reshape to shape\n",
    "\n",
    "    # Plot the display image\n",
    "    fig, ax = plt.subplots(1, 1)\n",
    "    ax.imshow(display, cmap=\"gray\")\n",
    "    ax.axis(\"off\")  # Hide axes\n",
    "\n",
    "    if show_grid:\n",
    "        # Minor ticks for the grid\n",
    "        ax.set_xticks(np.arange(-0.5, grid_size[1] * shape[1], shape[1]), minor=True)\n",
    "        ax.set_yticks(np.arange(-0.5, grid_size[0] * shape[0], shape[0]), minor=True)\n",
    "\n",
    "        # Gridlines based on minor ticks\n",
    "        ax.grid(which=\"minor\", color=\"gray\", linestyle=\"-\", linewidth=2)"
   ]
  },
  {
   "cell_type": "code",
   "execution_count": 113,
   "id": "e400f326",
   "metadata": {},
   "outputs": [
    {
     "name": "stdout",
     "output_type": "stream",
     "text": [
      "[[0. 0. 0. 0. 0. 0. 0. 0. 0. 0. 0. 0. 0. 0. 0. 0.]\n",
      " [1. 0. 0. 0. 1. 0. 0. 0. 1. 0. 0. 0. 1. 0. 0. 0.]\n",
      " [0. 1. 0. 0. 0. 1. 0. 0. 0. 1. 0. 0. 0. 1. 0. 0.]\n",
      " [1. 1. 0. 0. 1. 1. 0. 0. 1. 1. 0. 0. 1. 1. 0. 0.]\n",
      " [0. 0. 1. 0. 0. 0. 1. 0. 0. 0. 1. 0. 0. 0. 1. 0.]\n",
      " [1. 0. 1. 0. 1. 0. 1. 0. 1. 0. 1. 0. 1. 0. 1. 0.]\n",
      " [0. 1. 1. 0. 0. 1. 1. 0. 0. 1. 1. 0. 0. 1. 1. 0.]\n",
      " [1. 1. 1. 0. 1. 1. 1. 0. 1. 1. 1. 0. 1. 1. 1. 0.]\n",
      " [0. 0. 0. 1. 0. 0. 0. 1. 0. 0. 0. 1. 0. 0. 0. 1.]\n",
      " [1. 0. 0. 1. 1. 0. 0. 1. 1. 0. 0. 1. 1. 0. 0. 1.]\n",
      " [0. 1. 0. 1. 0. 1. 0. 1. 0. 1. 0. 1. 0. 1. 0. 1.]\n",
      " [1. 1. 0. 1. 1. 1. 0. 1. 1. 1. 0. 1. 1. 1. 0. 1.]\n",
      " [0. 0. 1. 1. 0. 0. 1. 1. 0. 0. 1. 1. 0. 0. 1. 1.]\n",
      " [1. 0. 1. 1. 1. 0. 1. 1. 1. 0. 1. 1. 1. 0. 1. 1.]\n",
      " [0. 1. 1. 1. 0. 1. 1. 1. 0. 1. 1. 1. 0. 1. 1. 1.]\n",
      " [1. 1. 1. 1. 0. 0. 0. 0. 0. 0. 0. 0. 0. 0. 0. 0.]\n",
      " [0. 0. 0. 0. 1. 1. 1. 1. 0. 0. 0. 0. 0. 0. 0. 0.]\n",
      " [1. 1. 1. 1. 1. 1. 1. 1. 0. 0. 0. 0. 0. 0. 0. 0.]\n",
      " [0. 0. 0. 0. 0. 0. 0. 0. 1. 1. 1. 1. 0. 0. 0. 0.]\n",
      " [1. 1. 1. 1. 0. 0. 0. 0. 1. 1. 1. 1. 0. 0. 0. 0.]\n",
      " [0. 0. 0. 0. 1. 1. 1. 1. 1. 1. 1. 1. 0. 0. 0. 0.]\n",
      " [1. 1. 1. 1. 1. 1. 1. 1. 1. 1. 1. 1. 0. 0. 0. 0.]\n",
      " [0. 0. 0. 0. 0. 0. 0. 0. 0. 0. 0. 0. 1. 1. 1. 1.]\n",
      " [1. 1. 1. 1. 0. 0. 0. 0. 0. 0. 0. 0. 1. 1. 1. 1.]\n",
      " [0. 0. 0. 0. 1. 1. 1. 1. 0. 0. 0. 0. 1. 1. 1. 1.]\n",
      " [1. 1. 1. 1. 1. 1. 1. 1. 0. 0. 0. 0. 1. 1. 1. 1.]\n",
      " [0. 0. 0. 0. 0. 0. 0. 0. 1. 1. 1. 1. 1. 1. 1. 1.]\n",
      " [1. 1. 1. 1. 0. 0. 0. 0. 1. 1. 1. 1. 1. 1. 1. 1.]\n",
      " [0. 0. 0. 0. 1. 1. 1. 1. 1. 1. 1. 1. 1. 1. 1. 1.]\n",
      " [1. 1. 1. 1. 1. 1. 1. 1. 1. 1. 1. 1. 1. 1. 1. 1.]]\n"
     ]
    }
   ],
   "source": [
    "print(inputs_np)"
   ]
  },
  {
   "cell_type": "code",
   "execution_count": 114,
   "id": "7aa8afda",
   "metadata": {},
   "outputs": [
    {
     "data": {
      "image/png": "[encoded data removed]",
      "text/plain": [
       "<Figure size 640x480 with 1 Axes>"
      ]
     },
     "metadata": {},
     "output_type": "display_data"
    }
   ],
   "source": [
    "\n",
    "plot_image(sample=inputs_np.astype(int), shape=(4, 4), grid_size=(10, 10), show_grid=True)"
   ]
  },
  {
   "cell_type": "code",
   "execution_count": 120,
   "id": "647601c5",
   "metadata": {},
   "outputs": [
    {
     "data": {
      "image/png": "[encoded data removed]",
      "text/plain": [
       "<Figure size 640x480 with 1 Axes>"
      ]
     },
     "metadata": {},
     "output_type": "display_data"
    }
   ],
   "source": [
    "plot_image(sample=sample_v, shape=(4, 4), grid_size=(10, 10), show_grid=True)"
   ]
  },
  {
   "cell_type": "code",
   "execution_count": 116,
   "id": "2a4db961",
   "metadata": {},
   "outputs": [
    {
     "data": {
      "text/plain": [
       "array([-20.79072937, -20.78177736, -20.77325932, -20.77071763,\n",
       "       -20.75874278, -20.75064025, -20.76116758, -20.76577149,\n",
       "       -20.75711626, -20.76225943, -20.77291093, -20.78456843,\n",
       "       -20.77222425, -20.77064941, -20.76730833, -20.75929205,\n",
       "       -20.75710279, -20.71409825, -20.73215819, -20.71027681,\n",
       "       -20.69853937, -20.69237479, -20.69506831, -20.69598559,\n",
       "       -20.68217399, -20.69679793, -20.6820248 , -20.70618866,\n",
       "       -20.69891841, -20.70101737, -20.67815287, -20.66072693,\n",
       "       -20.68315104, -20.67011318, -20.67827336, -20.69701822,\n",
       "       -20.6817212 , -20.64883039, -20.64356476, -20.67804674,\n",
       "       -20.65076647, -20.63288306, -20.65317785, -20.65059045,\n",
       "       -20.6386661 , -20.63998821, -20.63658972, -20.63090304,\n",
       "       -20.63592081, -20.64542948, -20.62677924, -20.65053868,\n",
       "       -20.64789693, -20.63157728, -20.6694366 , -20.6435781 ,\n",
       "       -20.64181068, -20.61803287, -20.60063964, -20.64421817,\n",
       "       -20.64102643, -20.64245681, -20.64172073, -20.65294302,\n",
       "       -20.62714663, -20.65420117, -20.62678277, -20.61718449,\n",
       "       -20.6289987 , -20.62132573, -20.6205099 , -20.61404271,\n",
       "       -20.62915516, -20.61113019, -20.63088082, -20.66795756,\n",
       "       -20.65918621, -20.62240954, -20.61835949, -20.64346516,\n",
       "       -20.61413395, -20.62348952, -20.64649366, -20.65034357,\n",
       "       -20.63441804, -20.64912317, -20.68103847, -20.66577458,\n",
       "       -20.66113569, -20.66268024, -20.66120094, -20.66108594,\n",
       "       -20.691388  , -20.6914483 , -20.69900399, -20.72321264,\n",
       "       -20.70807204, -20.70617515, -20.71255569, -20.73068169])"
      ]
     },
     "execution_count": 116,
     "metadata": {},
     "output_type": "execute_result"
    }
   ],
   "source": [
    "llh"
   ]
  },
  {
   "cell_type": "code",
   "execution_count": 117,
   "id": "9c087596",
   "metadata": {},
   "outputs": [
    {
     "data": {
      "image/png": "[encoded data removed]",
      "text/plain": [
       "<Figure size 640x480 with 1 Axes>"
      ]
     },
     "metadata": {},
     "output_type": "display_data"
    }
   ],
   "source": [
    "plt.plot(llh)\n",
    "plt.xlabel(\"time (iteration)\")\n",
    "plt.ylabel(\"log-likelihood\")\n",
    "plt.title(\"evolution of log-likelihood\")\n",
    "plt.grid(True)"
   ]
  },
  {
   "cell_type": "code",
   "execution_count": null,
   "id": "b827f3da",
   "metadata": {},
   "outputs": [],
   "source": []
  },
  {
   "cell_type": "code",
   "execution_count": null,
   "id": "c0a71a49",
   "metadata": {},
   "outputs": [],
   "source": []
  },
  {
   "cell_type": "code",
   "execution_count": null,
   "id": "841943ac",
   "metadata": {},
   "outputs": [],
   "source": []
  },
  {
   "cell_type": "code",
   "execution_count": 118,
   "id": "68bcdf46",
   "metadata": {},
   "outputs": [],
   "source": [
    "def generate_bars_and_stripes_complete(length):\n",
    "    \"\"\" Creates a dataset containing all possible samples showing bars or stripes.\n",
    "\n",
    "    :param length: Length of the bars/stripes.\n",
    "    :type length: int\n",
    "\n",
    "    :return: Samples.\n",
    "    :rtype: numpy array [num_samples, length*length]\n",
    "    \"\"\"\n",
    "    stripes = generate_binary_code(length)\n",
    "    stripes = np.repeat(stripes, length, 0)\n",
    "    stripes = stripes.reshape(2 ** length, length * length)\n",
    "\n",
    "    bars = generate_binary_code(length)\n",
    "    bars = bars.reshape(2 ** length * length, 1)\n",
    "    bars = np.repeat(bars, length, 1)\n",
    "    bars = bars.reshape(2 ** length, length * length)\n",
    "    return np.vstack((stripes[0:stripes.shape[0]-1],bars[1:bars.shape[0]]))\n",
    "    # return numx.vstack((stripes, bars)) # Tests have to match if changed to this.\n",
    "\n",
    "\n",
    "new_input = generate_bars_and_stripes_complete(4)"
   ]
  },
  {
   "cell_type": "code",
   "execution_count": null,
   "id": "3f1ac799",
   "metadata": {},
   "outputs": [],
   "source": []
  },
  {
   "cell_type": "code",
   "execution_count": 119,
   "id": "2c85bc2b",
   "metadata": {},
   "outputs": [
    {
     "ename": "TypeError",
     "evalue": "generate_binary_code() missing 1 required positional argument: 'bit_length'",
     "output_type": "error",
     "traceback": [
      "\u001b[31m---------------------------------------------------------------------------\u001b[39m",
      "\u001b[31mTypeError\u001b[39m                                 Traceback (most recent call last)",
      "\u001b[36mCell\u001b[39m\u001b[36m \u001b[39m\u001b[32mIn[119]\u001b[39m\u001b[32m, line 1\u001b[39m\n\u001b[32m----> \u001b[39m\u001b[32m1\u001b[39m \u001b[43mgenerate_binary_code\u001b[49m\u001b[43m(\u001b[49m\u001b[43m)\u001b[49m\n",
      "\u001b[31mTypeError\u001b[39m: generate_binary_code() missing 1 required positional argument: 'bit_length'"
     ]
    }
   ],
   "source": [
    "generate_binary_code()"
   ]
  },
  {
   "cell_type": "code",
   "execution_count": null,
   "id": "59def233",
   "metadata": {},
   "outputs": [],
   "source": []
  },
  {
   "cell_type": "code",
   "execution_count": null,
   "id": "e93fc1d0",
   "metadata": {},
   "outputs": [
    {
     "data": {
      "image/png": "[encoded data removed]",
      "text/plain": [
       "<Figure size 640x480 with 1 Axes>"
      ]
     },
     "metadata": {},
     "output_type": "display_data"
    }
   ],
   "source": [
    "plot_image(sample=new_input, shape=(4, 4), grid_size=(4, 4), show_grid=True)"
   ]
  },
  {
   "cell_type": "code",
   "execution_count": null,
   "id": "35f9e7d6",
   "metadata": {},
   "outputs": [],
   "source": []
  }
 ],
 "metadata": {
  "kernelspec": {
   "display_name": "base",
   "language": "python",
   "name": "python3"
  },
  "language_info": {
   "codemirror_mode": {
    "name": "ipython",
    "version": 3
   },
   "file_extension": ".py",
   "mimetype": "text/x-python",
   "name": "python",
   "nbconvert_exporter": "python",
   "pygments_lexer": "ipython3",
   "version": "3.12.9"
  }
 },
 "nbformat": 4,
 "nbformat_minor": 5
}
