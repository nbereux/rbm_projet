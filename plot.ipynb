{
 "cells": [
  {
   "cell_type": "code",
   "execution_count": 27,
   "id": "eea30a60",
   "metadata": {},
   "outputs": [],
   "source": [
    "import h5py \n",
    "import numpy as np\n",
    "import pennylane as qml\n",
    "from train import bgs "
   ]
  },
  {
   "cell_type": "code",
   "execution_count": 28,
   "id": "e531e626",
   "metadata": {},
   "outputs": [],
   "source": [
    "[dataset] = qml.data.load(\"other\", name=\"bars-and-stripes\") \n",
    "inputs = dataset.train['4']['inputs'] # images de pixels 4x4 \n",
    "    \n",
    "# Dimensions des inputs: (N, D) \n",
    "inputs_np = np.array(inputs)\n",
    "nb_samples = inputs_np.shape[0] # N ---> samples\n",
    "nb_pixels  = inputs_np.shape[1] # D ---> features\n",
    "\n",
    "Nv = 16\n",
    "Nh = 3"
   ]
  },
  {
   "cell_type": "code",
   "execution_count": 29,
   "id": "dcba5a50",
   "metadata": {},
   "outputs": [
    {
     "name": "stdout",
     "output_type": "stream",
     "text": [
      "<KeysViewHDF5 ['weight_matrix', 'eta_vector', 'theta_vector']>\n",
      "[[-0.06785619 -0.06827611 -0.06826973]\n",
      " [-0.06647932 -0.06646492 -0.06748908]\n",
      " [-0.06910775 -0.06916351 -0.07045635]\n",
      " [-0.06444804 -0.06446854 -0.06606468]\n",
      " [-0.0669508  -0.06643666 -0.06710178]\n",
      " [-0.06149781 -0.06316798 -0.06260539]\n",
      " [-0.06761507 -0.06701647 -0.06742024]\n",
      " [-0.06080567 -0.06169065 -0.0621395 ]\n",
      " [-0.06270951 -0.06195288 -0.0621403 ]\n",
      " [-0.06275034 -0.0605812  -0.06198147]\n",
      " [-0.06071896 -0.06059491 -0.06139799]\n",
      " [-0.05962676 -0.0585182  -0.06141097]\n",
      " [-0.06748023 -0.0669831  -0.06731738]\n",
      " [-0.06373845 -0.06318963 -0.06385668]\n",
      " [-0.06427566 -0.06447386 -0.06342409]\n",
      " [-0.06413063 -0.06191573 -0.06573268]]\n",
      "[-0.00088246 -0.00013006 -0.00148428]\n",
      "[-0.12201989 -0.11834607 -0.12491527 -0.11570442 -0.11996059 -0.11077194\n",
      " -0.1193373  -0.10943482 -0.11064281 -0.10943587 -0.10732551 -0.10430298\n",
      " -0.11977924 -0.11198185 -0.11459081 -0.11269785]\n"
     ]
    }
   ],
   "source": [
    "with h5py.File(\"rbm_parameters.h5\", \"r\") as f:\n",
    "    print(f.keys()) \n",
    "\n",
    "    w     = np.array(f['weight_matrix'])\n",
    "    eta   = np.array(f['eta_vector'])    \n",
    "    theta = np.array(f['theta_vector'])\n",
    "\n",
    "    print(w)\n",
    "    print(eta)\n",
    "    print(theta)"
   ]
  },
  {
   "cell_type": "code",
   "execution_count": 31,
   "id": "32239b10",
   "metadata": {},
   "outputs": [
    {
     "ename": "TypeError",
     "evalue": "bgs() takes from 3 to 4 positional arguments but 6 were given",
     "output_type": "error",
     "traceback": [
      "\u001b[31m---------------------------------------------------------------------------\u001b[39m",
      "\u001b[31mTypeError\u001b[39m                                 Traceback (most recent call last)",
      "\u001b[36mCell\u001b[39m\u001b[36m \u001b[39m\u001b[32mIn[31]\u001b[39m\u001b[32m, line 1\u001b[39m\n\u001b[32m----> \u001b[39m\u001b[32m1\u001b[39m h, v = \u001b[43mbgs\u001b[49m\u001b[43m(\u001b[49m\u001b[43mw\u001b[49m\u001b[43m,\u001b[49m\u001b[43m \u001b[49m\u001b[43meta\u001b[49m\u001b[43m,\u001b[49m\u001b[43m \u001b[49m\u001b[43mtheta\u001b[49m\u001b[43m,\u001b[49m\u001b[43m \u001b[49m\u001b[43mNv\u001b[49m\u001b[43m,\u001b[49m\u001b[43m \u001b[49m\u001b[43mNh\u001b[49m\u001b[43m,\u001b[49m\u001b[43m \u001b[49m\u001b[32;43m10\u001b[39;49m\u001b[43m)\u001b[49m\n",
      "\u001b[31mTypeError\u001b[39m: bgs() takes from 3 to 4 positional arguments but 6 were given"
     ]
    }
   ],
   "source": [
    "h, v = bgs(w, eta, theta, Nv, Nh, 10)"
   ]
  },
  {
   "cell_type": "code",
   "execution_count": null,
   "id": "7185ef93",
   "metadata": {},
   "outputs": [],
   "source": []
  },
  {
   "cell_type": "code",
   "execution_count": null,
   "id": "d193ceb9",
   "metadata": {},
   "outputs": [],
   "source": []
  },
  {
   "cell_type": "code",
   "execution_count": null,
   "id": "647601c5",
   "metadata": {},
   "outputs": [],
   "source": []
  }
 ],
 "metadata": {
  "kernelspec": {
   "display_name": "base",
   "language": "python",
   "name": "python3"
  },
  "language_info": {
   "codemirror_mode": {
    "name": "ipython",
    "version": 3
   },
   "file_extension": ".py",
   "mimetype": "text/x-python",
   "name": "python",
   "nbconvert_exporter": "python",
   "pygments_lexer": "ipython3",
   "version": "3.12.9"
  }
 },
 "nbformat": 4,
 "nbformat_minor": 5
}
